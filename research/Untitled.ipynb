{
 "cells": [
  {
   "cell_type": "code",
   "execution_count": 1,
   "id": "0e935349-121b-4466-a524-e0ac01613b5a",
   "metadata": {},
   "outputs": [],
   "source": [
    "import os"
   ]
  },
  {
   "cell_type": "code",
   "execution_count": 2,
   "id": "ece82f56-c2d3-4eb4-999b-4e6b8632eaed",
   "metadata": {},
   "outputs": [
    {
     "data": {
      "text/plain": [
       "'C:\\\\Users\\\\shrey\\\\OneDrive\\\\Desktop\\\\MLOPS PORJECT\\\\Wine-Quality-Prediction-MLOps-Project\\\\research'"
      ]
     },
     "execution_count": 2,
     "metadata": {},
     "output_type": "execute_result"
    }
   ],
   "source": [
    "%pwd"
   ]
  },
  {
   "cell_type": "code",
   "execution_count": 3,
   "id": "eab29bf8-a622-4e7c-a39e-7b06ca8aa8be",
   "metadata": {},
   "outputs": [
    {
     "data": {
      "text/plain": [
       "'C:\\\\Users\\\\shrey\\\\OneDrive\\\\Desktop\\\\MLOPS PORJECT\\\\Wine-Quality-Prediction-MLOps-Project'"
      ]
     },
     "execution_count": 3,
     "metadata": {},
     "output_type": "execute_result"
    }
   ],
   "source": [
    "os.chdir(\"../\")\n",
    "%pwd"
   ]
  },
  {
   "cell_type": "code",
   "execution_count": 5,
   "id": "c8d4d870-b55b-47c0-b932-4e0784a8a0f6",
   "metadata": {},
   "outputs": [],
   "source": [
    "from dataclasses import dataclass\n",
    "from pathlib import Path\n",
    "\n",
    "@dataclass\n",
    "class dataIngestionConfig:\n",
    "    root_dir: Path\n",
    "    source_URL: str\n",
    "    local_data_file: Path\n",
    "    unzip_dir: Path"
   ]
  },
  {
   "cell_type": "code",
   "execution_count": 8,
   "id": "027a59df-ccdc-48f5-8e2c-29226a08e70c",
   "metadata": {},
   "outputs": [],
   "source": []
  },
  {
   "cell_type": "code",
   "execution_count": 21,
   "id": "b5777309-6c7e-4a05-812a-988d7f0cf30d",
   "metadata": {},
   "outputs": [],
   "source": [
    "from src.WineQuality.constants import *\n",
    "from src.WineQuality.utils.common import read_yaml, create_directories\n",
    "from src.WineQuality.entity.config_entity import DataIngestionConfig\n",
    "\n",
    "\n",
    "class ConfigurationManager:\n",
    "\n",
    "    def __init__(self, config_filePath = CONFIG_FILE_PATH, params_filePath = PARAMS_FILE_PATH, schema_filePath = SCHEMA_FILE_PATH):\n",
    "        self.config = read_yaml(config_filePath)\n",
    "        self.params = read_yaml(params_filePath)\n",
    "        self.schema = read_yaml(schema_filePath)\n",
    "\n",
    "        create_directories([self.config.artifacts_root])\n",
    "\n",
    "    def get_data_ingestion_config(self) -> DataIngestionConfig:\n",
    "        config = self.config.data_ingestion\n",
    "        create_directories([config.root_dir])\n",
    "\n",
    "        data_ingestion_config = DataIngestionConfig(\n",
    "            root_dir = config.root_dir,\n",
    "            source_URL = config.source_URL,\n",
    "            local_data_file = config.local_data_file,\n",
    "            unzip_dir = config.unzip_dir\n",
    "        )\n",
    "        return data_ingestion_config"
   ]
  },
  {
   "cell_type": "code",
   "execution_count": 22,
   "id": "d6ec6269-c07c-48aa-b249-6595217486cb",
   "metadata": {},
   "outputs": [],
   "source": [
    "import os\n",
    "from urllib.request import urlretrieve\n",
    "from src.WineQuality import logger\n",
    "from src.WineQuality.entity.config_entity import DataIngestionConfig\n",
    "import zipfile\n",
    "\n",
    "\n",
    "class DataIngestion:\n",
    "\n",
    "    def __init__(self, config: DataIngestionConfig):\n",
    "        self.config = config\n",
    "\n",
    "\n",
    "    def download_file(self):\n",
    "        if not os.path.exists(self.config.local_data_file):\n",
    "            os.makedirs(os.path.dirname(self.config.local_data_file), exist_ok=True)\n",
    "\n",
    "            filename, headers = urlretrieve(\n",
    "                url=self.config.source_URL,\n",
    "                filename=self.config.local_data_file\n",
    "            )\n",
    "            logger.info(f\"{filename} downloaded! with following info: \\n{headers}\")\n",
    "        else:\n",
    "            logger.info(f\"File already exists\")\n",
    "\n",
    "            \n",
    "    def extract_zip_file(self):\n",
    "\n",
    "        unzip_path = self.config.unzip_dir\n",
    "        os.makedirs(unzip_path, exist_ok=True)\n",
    "        with zipfile.ZipFile(self.config.local_data_file, 'r') as zip_ref:\n",
    "            zip_ref.extractall(unzip_path)"
   ]
  },
  {
   "cell_type": "code",
   "execution_count": 23,
   "id": "c58a16c8-32f0-4040-9197-5840e8c7001d",
   "metadata": {},
   "outputs": [
    {
     "name": "stdout",
     "output_type": "stream",
     "text": [
      "[2025-08-07 01:00:16,721: INFO: common: yaml file: config\\config.yaml loaded successfully]\n",
      "[2025-08-07 01:00:16,723: INFO: common: yaml file: params.yaml loaded successfully]\n",
      "[2025-08-07 01:00:16,728: INFO: common: yaml file: schema.yaml loaded successfully]\n",
      "[2025-08-07 01:00:16,731: INFO: common: created directory at: artifacts]\n",
      "[2025-08-07 01:00:16,732: INFO: common: created directory at: artifacts/data_ingestion]\n",
      "[2025-08-07 01:00:17,880: INFO: 3175180489: artifacts/data_ingestion/data.zip downloaded! with following info: \n",
      "Connection: close\n",
      "Content-Length: 23329\n",
      "Cache-Control: max-age=300\n",
      "Content-Security-Policy: default-src 'none'; style-src 'unsafe-inline'; sandbox\n",
      "Content-Type: application/zip\n",
      "ETag: \"c69888a4ae59bc5a893392785a938ccd4937981c06ba8a9d6a21aa52b4ab5b6e\"\n",
      "Strict-Transport-Security: max-age=31536000\n",
      "X-Content-Type-Options: nosniff\n",
      "X-Frame-Options: deny\n",
      "X-XSS-Protection: 1; mode=block\n",
      "X-GitHub-Request-Id: AF4D:23737A:192EA9:3A71EB:6893AD4B\n",
      "Accept-Ranges: bytes\n",
      "Date: Wed, 06 Aug 2025 19:30:21 GMT\n",
      "Via: 1.1 varnish\n",
      "X-Served-By: cache-hyd1100028-HYD\n",
      "X-Cache: MISS\n",
      "X-Cache-Hits: 0\n",
      "X-Timer: S1754508622.528931,VS0,VE259\n",
      "Vary: Authorization,Accept-Encoding\n",
      "Access-Control-Allow-Origin: *\n",
      "Cross-Origin-Resource-Policy: cross-origin\n",
      "X-Fastly-Request-ID: 36693a672153c84ba5a49ef9502e95c2a171d6c4\n",
      "Expires: Wed, 06 Aug 2025 19:35:21 GMT\n",
      "Source-Age: 0\n",
      "\n",
      "]\n"
     ]
    }
   ],
   "source": [
    "try:\n",
    "    config = ConfigurationManager()\n",
    "    data_ingestion_config = config.get_data_ingestion_config()\n",
    "    data_ingestion = DataIngestion(config=data_ingestion_config)\n",
    "    data_ingestion.download_file()\n",
    "    data_ingestion.extract_zip_file()\n",
    "except Exception as e:\n",
    "    raise e"
   ]
  },
  {
   "cell_type": "code",
   "execution_count": null,
   "id": "261174af-5cc0-4a09-8720-cc856f1fe811",
   "metadata": {},
   "outputs": [],
   "source": []
  }
 ],
 "metadata": {
  "kernelspec": {
   "display_name": "Python 3 (ipykernel)",
   "language": "python",
   "name": "python3"
  },
  "language_info": {
   "codemirror_mode": {
    "name": "ipython",
    "version": 3
   },
   "file_extension": ".py",
   "mimetype": "text/x-python",
   "name": "python",
   "nbconvert_exporter": "python",
   "pygments_lexer": "ipython3",
   "version": "3.10.18"
  }
 },
 "nbformat": 4,
 "nbformat_minor": 5
}
